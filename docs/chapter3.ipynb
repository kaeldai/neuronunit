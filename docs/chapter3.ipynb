{
 "cells": [
  {
   "cell_type": "markdown",
   "metadata": {},
   "source": [
    "![NeuronUnit Logo](https://raw.githubusercontent.com/scidash/assets/master/logos/neuronunit.png)\n",
    "# Chapter 3\n",
    "Back to [Chapter 2](chapter2.ipynb)"
   ]
  },
  {
   "cell_type": "markdown",
   "metadata": {},
   "source": [
    "In the second chapter we tested a real ion channel model using data from the [OpenWorm](http://openworm.org) project.  Here we'll test a neuron model using data from the [NeuroElectro](http://neuroelectro.org) project.  \n",
    "### We'll test the resting potential and action potential width of a couple of cerebellar granule cell models.  "
   ]
  },
  {
   "cell_type": "code",
   "execution_count": 1,
   "metadata": {
    "collapsed": false
   },
   "outputs": [],
   "source": [
    "import os\n",
    "import quantities as pq\n",
    "import sciunit\n",
    "from neuronunit import tests,capabilities\n",
    "from neuronunit import neuroelectro # This module allows interaction with NeuroElecto through a REST API.  "
   ]
  },
  {
   "cell_type": "markdown",
   "metadata": {},
   "source": [
    "In this example, we'll use models downloaded from [Open Source Brain](http://www.opensourcebrain.org) and run via [neuroConstruct](http://www.neuroconstruct.org) using [execnet](http://codespeak.net/execnet)."
   ]
  },
  {
   "cell_type": "code",
   "execution_count": 2,
   "metadata": {
    "collapsed": false
   },
   "outputs": [],
   "source": [
    "import neuronunit.neuroconstruct.models as nc_models # Model classes for use with neuroConstruct \n",
    "                                                     # (http://www.neuroconstruct.org), a model and \n",
    "                                                     # simulation manager for detailed neuron models.  \n",
    "from pythonnC.utils.putils import OSB_MODELS # Path to models downloaded from Open Source Brain.\n",
    "\n",
    "# We will test cerebellar granule cell models.  \n",
    "brain_area = 'cerebellum'\n",
    "neuron_type = 'cerebellar_granule_cell'\n",
    "neuron_type_path = os.path.join(OSB_MODELS,brain_area,neuron_type)"
   ]
  },
  {
   "cell_type": "markdown",
   "metadata": {},
   "source": [
    "We will look up data for cerebellar granule cells by [NeuroLex](http://neurolex.org) ID to make sure we get an unambiguous neuron type.<br>\n",
    "You can browse [NeuroLex](http://neurolex.org) to find your favorite neuron type."
   ]
  },
  {
   "cell_type": "code",
   "execution_count": 3,
   "metadata": {
    "collapsed": true
   },
   "outputs": [],
   "source": [
    "neurolex_id = 'nifext_128' # Cerebellar Granule Cell"
   ]
  },
  {
   "cell_type": "markdown",
   "metadata": {},
   "source": [
    "### Now we instantiate two tests parameterized by data retrieved on the fly from [NeuroElectro](http://neuroelectro.org).\n",
    "One for resting membrane potential:"
   ]
  },
  {
   "cell_type": "code",
   "execution_count": 4,
   "metadata": {
    "collapsed": false
   },
   "outputs": [
    {
     "name": "stdout",
     "output_type": "stream",
     "text": [
      "Getting data values from neuroelectro.org\n",
      "http://www.neuroelectro.org/api/1/nes/?e__name=Resting+Membrane+Potential&nlex=nifext_128\n"
     ]
    }
   ],
   "source": [
    "# Specify reference data for a test of resting potential for a granule cell.  \n",
    "reference_data = neuroelectro.NeuroElectroSummary(\n",
    "    neuron = {'nlex_id':neurolex_id}, # Neuron type lookup using the NeuroLex ID.  \n",
    "    ephysprop = {'name':'Resting Membrane Potential'}) # Ephys property name in the NeuroElectro ontology. \n",
    "reference_data.get_values() # Get and verify summary data for the combination above from neuroelectro.org. \n",
    "\n",
    "rmp_test = tests.RestingPotentialTest(\n",
    "                observation = {'mean':reference_data.mean*pq.mV, # In millivolts.  \n",
    "                               'std':reference_data.std*pq.mV},\n",
    "                name = 'Resting Potential')"
   ]
  },
  {
   "cell_type": "markdown",
   "metadata": {},
   "source": [
    "And one for action potential width:"
   ]
  },
  {
   "cell_type": "code",
   "execution_count": 5,
   "metadata": {
    "collapsed": false
   },
   "outputs": [
    {
     "name": "stdout",
     "output_type": "stream",
     "text": [
      "Getting data values from neuroelectro.org\n",
      "http://www.neuroelectro.org/api/1/nes/?e__name=Spike+Half-Width&nlex=nifext_128\n"
     ]
    }
   ],
   "source": [
    "# Specify reference data for a test of action potential width.  \n",
    "reference_data = neuroelectro.NeuroElectroSummary(\n",
    "    neuron = {'nlex_id':neurolex_id}, # Neuron type lookup using the NeuroLex ID.  \n",
    "    ephysprop = {'name':'Spike Half-Width'}) # Ephys property name in the NeuroElectro ontology. \n",
    "reference_data.get_values() # Get and verify summary data for the combination above from neuroelectro.org. \n",
    "\n",
    "spikewidth_test = tests.InjectedCurrentAPWidthTest(\n",
    "                observation = {'mean':reference_data.mean*pq.ms, # In milliseconds.  \n",
    "                               'std':reference_data.std*pq.ms},\n",
    "                name = 'Spike Width',\n",
    "                params={'injected_square_current':{'amplitude':6.0*pq.pA,\n",
    "                                            'delay':50.0*pq.ms,\n",
    "                                            'duration':500.0*pq.ms}}) # 6 pA of injected current in a 500 ms square pulse.  "
   ]
  },
  {
   "cell_type": "markdown",
   "metadata": {},
   "source": [
    "### Let's create a test suite to group these two tests of a granule cell's properties.  "
   ]
  },
  {
   "cell_type": "code",
   "execution_count": 6,
   "metadata": {
    "collapsed": false
   },
   "outputs": [],
   "source": [
    "# Create a test suite from these two tests.  \n",
    "suite = sciunit.TestSuite('Neuron Tests',(spikewidth_test,rmp_test))"
   ]
  },
  {
   "cell_type": "markdown",
   "metadata": {},
   "source": [
    "### Tests and tests suites can be executed against single models or lists of model.  \n",
    "Let's instantiate a few different granule cell models and add them to a list to be tested.<br>\n",
    "Each of them is already parameterized in corresponding [NeuroML](http://neuroml.org) files associated with the [Open Source Brain](http://opensourcebrain.org) project.  "
   ]
  },
  {
   "cell_type": "code",
   "execution_count": 7,
   "metadata": {
    "collapsed": false
   },
   "outputs": [],
   "source": [
    "model_names = ['GranuleCell','cereb_grc_mc'] # The names of two granule cell models \n",
    "                                             # available at http://opensourcebrain.org.\n",
    "models = [] # Our list of models to be tested.  \n",
    "for model_name in model_names:\n",
    "    model_info = (brain_area,neuron_type,model_name) # Information about each model.  \n",
    "    model = nc_models.OSBModel(*model_info) # Instantiate a model using that information.  \n",
    "    models.append(model) # Add to the list of models to be tested.  "
   ]
  },
  {
   "cell_type": "markdown",
   "metadata": {},
   "source": [
    "### Run each test against each model.  "
   ]
  },
  {
   "cell_type": "code",
   "execution_count": 8,
   "metadata": {
    "collapsed": false
   },
   "outputs": [
    {
     "name": "stdout",
     "output_type": "stream",
     "text": [
      "Running simulation...\n",
      "Running simulation...\n",
      "Running simulation...\n",
      "Running simulation...\n"
     ]
    },
    {
     "name": "stderr",
     "output_type": "stream",
     "text": [
      "/Users/rgerkin/Dropbox/python3/lib/python3.4/site-packages/quantities/quantity.py:379: FutureWarning: comparison to `None` will result in an elementwise object comparison in the future.\n",
      "  return self.magnitude == other\n"
     ]
    }
   ],
   "source": [
    "# Running these 2 tests against these 2 models means 4 total simulations.  \n",
    "score_matrix = suite.judge(models,stop_on_error=True) "
   ]
  },
  {
   "cell_type": "markdown",
   "metadata": {},
   "source": [
    "### Display the results as a table.\n",
    "The 'cereb_grc_mc' model doesn't seem to spike, so there is insufficient data to produce a score."
   ]
  },
  {
   "cell_type": "code",
   "execution_count": 9,
   "metadata": {
    "collapsed": false
   },
   "outputs": [
    {
     "data": {
      "text/html": [
       "\n",
       "  \t<table>\n",
       "  \t  <thead><tr><th></th><th>Spike Width (InjectedCurrentSpikeWidthTest)</th>\r",
       "<th>Resting Potential (RestingPotentialTest)</th></tr></thead>\n",
       "  \t  <tbody><tr><td>GranuleCell (OSBModel)</td><td>Z = 24.80</td>\r",
       "<td>Z = 0.89</td></tr>\r",
       "<tr><td>cereb_grc_mc (OSBModel)</td><td>InsufficientDataScore(None)</td>\r",
       "<td>Z = 1.10</td></tr></tbody>\n",
       "  \t</table>"
      ],
      "text/plain": [
       "<IPython.core.display.HTML object>"
      ]
     },
     "execution_count": 9,
     "metadata": {},
     "output_type": "execute_result"
    }
   ],
   "source": [
    "score_matrix.view()"
   ]
  },
  {
   "cell_type": "markdown",
   "metadata": {},
   "source": [
    "### Plot some of the model output that led to those scores:"
   ]
  },
  {
   "cell_type": "code",
   "execution_count": 10,
   "metadata": {
    "collapsed": false
   },
   "outputs": [
    {
     "data": {
      "image/png": "[encoded data removed]",
      "text/plain": [
       "<matplotlib.figure.Figure at 0x1003e52e8>"
      ]
     },
     "metadata": {},
     "output_type": "display_data"
    }
   ],
   "source": [
    "%matplotlib inline\n",
    "import matplotlib.pyplot as plt\n",
    "fig,ax = plt.subplots(2,2,figsize=(8,6)) # Create plot windows.  \n",
    "for i,test in enumerate(score_matrix.tests): # For each test...\n",
    "    for j,model in enumerate(score_matrix.models): # And each model...\n",
    "        score = score_matrix[test,model] # Get the score.  \n",
    "        score.plot_vm(ax[i,j]) # And use a convenience method to plot the membrane potential.  \n",
    "fig.tight_layout() # Space the plots nicely. "
   ]
  }
 ],
 "metadata": {
  "kernelspec": {
   "display_name": "Python 3",
   "language": "python",
   "name": "python3"
  },
  "language_info": {
   "codemirror_mode": {
    "name": "ipython",
    "version": 3
   },
   "file_extension": ".py",
   "mimetype": "text/x-python",
   "name": "python",
   "nbconvert_exporter": "python",
   "pygments_lexer": "ipython3",
   "version": "3.4.1"
  }
 },
 "nbformat": 4,
 "nbformat_minor": 0
}
